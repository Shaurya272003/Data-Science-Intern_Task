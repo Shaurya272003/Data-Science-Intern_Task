import pandas as pd
from sklearn.preprocessing import StandardScaler
from sklearn.metrics.pairwise import cosine_similarity


customers = pd.read_csv("Customers.csv")
transactions = pd.read_csv("Transactions.csv")
products = pd.read_csv("Products.csv")


customer_features = transactions.groupby("CustomerID").agg(
    total_spend=("TotalValue", "sum"),
    purchase_freq=("TransactionID", "count"),
    avg_quantity=("Quantity", "mean")
).reset_index()


customer_features = pd.merge(customer_features, customers, on="CustomerID")


customer_features = pd.get_dummies(customer_features, columns=["Region"])


scaler = StandardScaler()
scaled_features = scaler.fit_transform(customer_features.drop(["CustomerID", "CustomerName", "SignupDate"], axis=1))


similarity_matrix = cosine_similarity(scaled_features)

lookalike_map = {}
target_customers = [f"C00{i:02d}" for i in range(1, 21)]  # C0001 to C0020

for idx, cust_id in enumerate(customer_features["CustomerID"]):
    if cust_id in target_customers:
        scores = list(enumerate(similarity_matrix[idx]))
        scores = sorted(scores, key=lambda x: x[1], reverse=True)[1:4]  # Exclude self
        lookalike_map[cust_id] = [
            (customer_features.iloc[i[0]]["CustomerID"], round(i[1], 2)) 
            for i in scores
        ]


lookalike_df = pd.DataFrame({
    "CustomerID": lookalike_map.keys(),
    "SimilarCustomers": lookalike_map.values()
})
lookalike_df.to_csv("Shaurya_Jain_Lookalike.csv", index=False)
