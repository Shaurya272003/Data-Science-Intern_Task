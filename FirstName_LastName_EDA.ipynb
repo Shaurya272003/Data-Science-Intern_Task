
import pandas as pd
import matplotlib.pyplot as plt
import seaborn as sns

customers = pd.read_csv("Customers.csv")
products = pd.read_csv("Products.csv")
transactions = pd.read_csv("Transactions.csv")


merged = pd.merge(transactions, customers, on="CustomerID")
merged = pd.merge(merged, products, on="ProductID")

print(merged.info())
print(merged.isnull().sum())

merged.drop_duplicates(inplace=True)


region_sales = merged.groupby("Region")["TotalValue"].sum().sort_values(ascending=False)
plt.figure(figsize=(10, 6))
sns.barplot(x=region_sales.values, y=region_sales.index, palette="viridis")
plt.title("Total Sales by Region")
plt.xlabel("Revenue (USD)")
plt.savefig("region_sales.png")


merged["TransactionDate"] = pd.to_datetime(merged["TransactionDate"])
merged["YearMonth"] = merged["TransactionDate"].dt.to_period("M")
category_trend = merged.groupby(["YearMonth", "Category"])["TotalValue"].sum().unstack()
category_trend.plot(figsize=(12, 6))
plt.title("Monthly Sales by Category")
plt.savefig("category_trend.png")


avg_order_value = merged["TotalValue"].mean()
print(f"Average Order Value: ${avg_order_value:.2f}")
